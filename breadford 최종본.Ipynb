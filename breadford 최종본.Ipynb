{
 "cells": [
  {
   "cell_type": "markdown",
   "metadata": {},
   "source": [
    "# Bradford assay 기반 단백질 정량 실험 보고서\n"
   ]
  },
  {
   "cell_type": "markdown",
   "metadata": {},
   "source": [
    "* 작성일: 2025-04-29\n",
    "* 학과: AI의약바이오\n",
    "* 학번: 2503110220\n",
    "* 작성자: 최재영\n"
   ]
  },
  {
   "cell_type": "markdown",
   "metadata": {},
   "source": [
    "--- "
   ]
  },
  {
   "cell_type": "markdown",
   "metadata": {},
   "source": [
    "## 1. 실험 목적\n",
    "* Bradford assay와 UV-Vis Spectrophotometer를 사용하여 **BSA protein 흡광도를 측정** 하고 BSA standard curve 그린 후 **eGFP 미지 농도를 구한다.**"
   ]
  },
  {
   "cell_type": "markdown",
   "metadata": {},
   "source": [
    "## 2.실험 재료"
   ]
  },
  {
   "cell_type": "markdown",
   "metadata": {},
   "source": [
    "<style>\n",
    ".jp-RenderedHTMLCommon table {\n",
    "    margin-left: 0 !important;\n",
    "    margin-right: auto !important;\n",
    "} \n",
    "</style>   "
   ]
  },
  {
   "cell_type": "markdown",
   "metadata": {},
   "source": [
    "|실험 재료|\n",
    "|-|\n",
    "|1 BSA (Bovine serum albumin) protein stock|\n",
    "|2 5X Bradford stock solution| \n",
    "|3 DDW| \n",
    "|4 UV-Vis spectrophotometer|\n",
    "|5 eGFP|\n",
    "|6 Micro Pipette|\n",
    "|7 ep-tube|\n",
    "|8 conical tube|\n",
    "|9 Ice Bucket|\n",
    "|10 PMMA Cuvette|\n",
    "|11 tip|\n",
    "|12  ICE|"
   ]
  },
  {
   "cell_type": "markdown",
   "metadata": {},
   "source": [
    "|시약명|개수|필요량|\n",
    "|-|-|-|\n",
    "|BSA proteins|1|1mg/mL|\n",
    "|5X Bradford stock|1|10mL|\n",
    "|1X Bradford reagent|1|990uL|\n",
    "|eGFP|1|10uL|"
   ]
  },
  {
   "cell_type": "markdown",
   "metadata": {},
   "source": [
    "## 3.실험 방법\n",
    "\n",
    "(1) 1.4mg/mL BSA proteins 1mg/mL로 1차 희석한다.\n",
    "\n",
    "\n",
    "2) 1mg/mL, 0.5mg/mL, 0.25 mg/mL, 0.125 mg/mL, 0.0625 mg/mL로 2배씩 총 4단계 희석해 총 5개의 각각 다른 농도의 BSA Protein을 만든다.\n",
    "\n",
    "\n",
    "3) Protein은 ICE에 놓고 사용하며 5X Bradford를 1X 농도로 5배 10mL로 희석한다.\n",
    "\n",
    "\n",
    "4) Ep-tube에 990μL의 1X Bradford reagent 첨가 후 10μL의 BSA Standard (1 – 0.0625 mg/mL) 첨가한다.\n",
    "\n",
    "\n",
    "5) 동시에 Ep-tube에 990μL의 1X Bradford reagent 첨가 후 10μL의 미지 농도의 eGFP첨가한다.\n",
    "\n",
    "\n",
    "6) 10분 실온에서 배양 후 PMMA cuvette 에 반응용액 1mL 옮긴다.\n",
    "\n",
    "\n",
    "7) UV-Vis Spectrophotometer를 이용해 595nm 파장에서 흡광도 측정한다.\n",
    "\n",
    "\n",
    "8) BSA Standard Curve 그리고 형광 단백질인 eGFP 미지시료의 농도를 구한다.\n"
   ]
  },
  {
   "cell_type": "markdown",
   "metadata": {},
   "source": [
    "# 4.실험 결과"
   ]
  },
  {
   "cell_type": "code",
   "execution_count": 130,
   "metadata": {},
   "outputs": [],
   "source": [
    "import pandas as pd\n",
    "import seaborn as sns\n",
    "import matplotlib as mpl\n",
    "import matplotlib.pyplot as plt\n",
    "import scipy\n",
    "\n",
    "mpl.rcParams['font.family'] = 'Malgun Gothic'"
   ]
  },
  {
   "cell_type": "code",
   "execution_count": 131,
   "metadata": {},
   "outputs": [],
   "source": [
    "filepath = 'D:/01_생명정보개론/01_script/통합 문서1.xlsx'"
   ]
  },
  {
   "cell_type": "markdown",
   "metadata": {},
   "source": [
    "## 4.1 BSA 농도별 흡광도 측정 결과"
   ]
  },
  {
   "cell_type": "code",
   "execution_count": 132,
   "metadata": {},
   "outputs": [],
   "source": [
    "result = pd.read_excel(filepath)"
   ]
  },
  {
   "cell_type": "code",
   "execution_count": 133,
   "metadata": {},
   "outputs": [
    {
     "data": {
      "text/html": [
       "<div>\n",
       "<style scoped>\n",
       "    .dataframe tbody tr th:only-of-type {\n",
       "        vertical-align: middle;\n",
       "    }\n",
       "\n",
       "    .dataframe tbody tr th {\n",
       "        vertical-align: top;\n",
       "    }\n",
       "\n",
       "    .dataframe thead th {\n",
       "        text-align: right;\n",
       "    }\n",
       "</style>\n",
       "<table border=\"1\" class=\"dataframe\">\n",
       "  <thead>\n",
       "    <tr style=\"text-align: right;\">\n",
       "      <th></th>\n",
       "      <th>BSA 농도</th>\n",
       "      <th>흡광도</th>\n",
       "    </tr>\n",
       "  </thead>\n",
       "  <tbody>\n",
       "    <tr>\n",
       "      <th>0</th>\n",
       "      <td>0.0000</td>\n",
       "      <td>0.000</td>\n",
       "    </tr>\n",
       "    <tr>\n",
       "      <th>1</th>\n",
       "      <td>0.0625</td>\n",
       "      <td>0.041</td>\n",
       "    </tr>\n",
       "    <tr>\n",
       "      <th>2</th>\n",
       "      <td>0.1250</td>\n",
       "      <td>0.078</td>\n",
       "    </tr>\n",
       "    <tr>\n",
       "      <th>3</th>\n",
       "      <td>0.2500</td>\n",
       "      <td>0.137</td>\n",
       "    </tr>\n",
       "    <tr>\n",
       "      <th>4</th>\n",
       "      <td>0.5000</td>\n",
       "      <td>0.279</td>\n",
       "    </tr>\n",
       "    <tr>\n",
       "      <th>5</th>\n",
       "      <td>1.0000</td>\n",
       "      <td>0.527</td>\n",
       "    </tr>\n",
       "  </tbody>\n",
       "</table>\n",
       "</div>"
      ],
      "text/plain": [
       "   BSA 농도    흡광도\n",
       "0  0.0000  0.000\n",
       "1  0.0625  0.041\n",
       "2  0.1250  0.078\n",
       "3  0.2500  0.137\n",
       "4  0.5000  0.279\n",
       "5  1.0000  0.527"
      ]
     },
     "execution_count": 133,
     "metadata": {},
     "output_type": "execute_result"
    }
   ],
   "source": [
    "result"
   ]
  },
  {
   "cell_type": "code",
   "execution_count": 134,
   "metadata": {},
   "outputs": [],
   "source": [
    "x = data[\"BSA 농도\"]\n",
    "y = data[\"흡광도\"]"
   ]
  },
  {
   "cell_type": "markdown",
   "metadata": {},
   "source": [
    "## 4.2. Standard Curve 산출하기"
   ]
  },
  {
   "cell_type": "code",
   "execution_count": 135,
   "metadata": {},
   "outputs": [],
   "source": [
    "slope, intercept, r_value, p_value, std_err = scipy.stats.linregress(x,y)\n",
    "rsq = round(r_value**2, 4)\n",
    "equation = f'$y={slope:.2f}x + {intercept:.2f}$\\n$R^2={rsq:.2f}$'"
   ]
  },
  {
   "cell_type": "code",
   "execution_count": 136,
   "metadata": {},
   "outputs": [
    {
     "data": {
      "text/plain": [
       "(np.float64(0.523974193548387), np.float64(0.007800000000000029))"
      ]
     },
     "execution_count": 136,
     "metadata": {},
     "output_type": "execute_result"
    }
   ],
   "source": [
    "slope, intercept"
   ]
  },
  {
   "cell_type": "markdown",
   "metadata": {},
   "source": [
    "## 4.3. 미지 시료의 농도 추정하기"
   ]
  },
  {
   "cell_type": "code",
   "execution_count": 137,
   "metadata": {},
   "outputs": [],
   "source": [
    "unknown = 0.303"
   ]
  },
  {
   "cell_type": "code",
   "execution_count": 138,
   "metadata": {},
   "outputs": [],
   "source": [
    "unknown_conc = round((unknown-intercept)/slope, 5)"
   ]
  },
  {
   "cell_type": "code",
   "execution_count": 139,
   "metadata": {},
   "outputs": [
    {
     "data": {
      "text/plain": [
       "np.float64(0.56339)"
      ]
     },
     "execution_count": 139,
     "metadata": {},
     "output_type": "execute_result"
    }
   ],
   "source": [
    "unknown_conc"
   ]
  },
  {
   "cell_type": "markdown",
   "metadata": {},
   "source": [
    "## 4.4. 그래프 그리기"
   ]
  },
  {
   "cell_type": "code",
   "execution_count": 140,
   "metadata": {},
   "outputs": [
    {
     "data": {
      "image/png": "[encoded data removed]",
      "text/plain": [
       "<Figure size 640x480 with 1 Axes>"
      ]
     },
     "metadata": {},
     "output_type": "display_data"
    }
   ],
   "source": [
    "ax = sns.regplot(x=data['BSA 농도'],y=data['흡광도'])\n",
    "ax.annotate(equation, xy= (0.3,0.5), ha = 'center', fontsize = 15, color = 'red')\n",
    "\n",
    "plt.scatter(unknown_conc, unknown, color='red', s=50, label=\"예측값\")\n",
    "plt.axvline(x=unknown_conc, ymin=00, ymax=(unknown - min(y)) / (max(y)-min(y)), linestyle='--', color='gray')\n",
    "plt.axhline(y=unknown, xmin=00, xmax=(unknown_conc - min(x)) / (max(x)-min(x)), linestyle='--', color='gray')\n",
    "\n",
    "plt.text(unknown_conc+0.082, 0.05, f\"x= {unknown_conc}\", fontsize=10, color='gray')\n",
    "plt.text(0.005, unknown +0., f\"y= {unknown:.2f}\", fontsize=10, color=\"gray\")\n",
    "\n",
    "plt.legend()\n",
    "\n",
    "plt.title(\"Bradford assay에 따른 단백질 정량\")\n",
    "plt.ylabel(\"흡광도\")\n",
    "plt.xlabel(\"BSA 농도\")\n",
    "plt.tight_layout()\n",
    "plt.show()"
   ]
  },
  {
   "cell_type": "markdown",
   "metadata": {},
   "source": [
    "# 5.실험 결론"
   ]
  },
  {
   "cell_type": "markdown",
   "metadata": {},
   "source": [
    "|미지의 시료 계산식|\n",
    "|-|\n",
    "|0.303 = 0.5108x + 0.0114|\n",
    "|0.5108x = 0.303 – 0.0114|\n",
    "|x= 0.303-0.0114 / 0.5108|\n",
    "|=(0.303-0.0114) / 0.5108 = 0.5708692247μg/mL|\n",
    "\n",
    "\n",
    "미지 시료의 흡광도는 0.303 농도는 ***0.5708692247μg/mL*** 으로 계산됐다."
   ]
  },
  {
   "cell_type": "markdown",
   "metadata": {},
   "source": [
    "# 6.고찰"
   ]
  },
  {
   "cell_type": "markdown",
   "metadata": {},
   "source": [
    "* 이번에 진행한 실험 Protein quantification(단백질 정량 실험) 에서는 1.4mg/mL에서 1mg/mL으로 희석한 BSA proteins 표준 용액을 사용해 진행했다.   \n",
    "\n",
    "* 희석한 BSA 표준 용액으로 UV-Vis Spectrophotometer를 이용해 BSA Standard Curve를 그리고 이를 바탕으로 미지 시료의 농도까지 측정했다.\n",
    "\n",
    "* 하지만 처음 진행한 실험 결과에서는 흡광도 표준 곡선 R²값이 =0.992 미만으로 기댓값보다 훨씬 낮게 측정됐다.\n",
    "\n",
    "* 그래서 여러 번 실험을 반복해서 만족하는 기댓값을 측정하기 위해 굴하지 않고,\n",
    " 견뎌 내면서 만족하는 R²=0.993 이상의 값을 측정하기 위해 실험을 여러 번 반복했다.\n",
    "\n",
    "* 이에 만족하는 R² 값을 표출하기 위해 여러 차례 BSA Protein을 희석하면서 느낀 점은\n",
    " 조금 더 Micro Pipette을 능숙하게 Shake Shake하고 정확하게 원하는 μL 값을 착출할 수 있도록 노력하자.\n",
    "\n",
    "* 또한 실험을 시작하기 전 정확한 농도, 용량, 질량, 밀도, 등 다양한 값들을 조금 더 빨리 계산하여 진행하자.\n",
    "\n",
    "* 다음 실험에는 Pipette도 천천히 사용하여 용액을 추출하고 삽입하고 희석하자.\n",
    "\n",
    "* 그래야 깔끔하고 빠르게 완벽한 덧없는 R² 값을 얻을 수 있다."
   ]
  }
 ],
 "metadata": {
  "kernelspec": {
   "display_name": "Python 3",
   "language": "python",
   "name": "python3"
  },
  "language_info": {
   "codemirror_mode": {
    "name": "ipython",
    "version": 3
   },
   "file_extension": ".py",
   "mimetype": "text/x-python",
   "name": "python",
   "nbconvert_exporter": "python",
   "pygments_lexer": "ipython3",
   "version": "3.11.9"
  }
 },
 "nbformat": 4,
 "nbformat_minor": 2
}
